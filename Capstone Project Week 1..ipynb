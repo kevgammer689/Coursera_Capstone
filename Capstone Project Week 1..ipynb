{
 "cells": [
  {
   "cell_type": "markdown",
   "metadata": {},
   "source": [
    "  ## INTRODUCTION\n",
    "\n",
    "Bogotá is the capital of the Republic of Colombia. In 2018 it had an estimated population of 7.4 million people.\n",
    "It is one of the most important cities in Latin America both in number of inhabitants and in GDP. The city has a dynamic economy,according to data from the Chamber of Commerce of Bogotá 35855 new businesses were created  in 2018, although it is estimated that only 30% survived a year after its creation.\n",
    "\n",
    "Given this scenario, it is very important for people interested in creating new businesses to have as much information as possible about structures and the behavior of the markets in which they want to enter. \n",
    "\n",
    "### Business Problem\n",
    "This analysis aims to expand knowledge through statistical tools about the geolocation of the different types of businesses throughout the 20 locations in which the city of Bogota is divided. In this way and depending on the particular analysis of each investor you can decide in which location you can establish your business, this will depend on many factors because some people prefer to take advantage of the agglomeration of companies, while others prefer to establish their businesses in places where There is not much competition among other important factors to consider.\n",
    "\n",
    "### Data\n",
    "\n",
    "In order to meet the above objectives, we will need the following data:\n",
    "\n",
    "- List of \"Localidades\" of the Bogota, city.\n",
    "\n",
    "- Latitude and Longitude coordinates of those territorial subdivisions. This information is required to plot the map.\n",
    "\n",
    "- List of all VenueCategories in the \"Localidades\" in Bogota.This information is required in order to clustering the             localidades.\n",
    "\n",
    "### Sources of data.\n",
    "\n",
    "- The list of \"Localidades\" is in the page https://es.wikipedia.org/wiki/Bogot%C3%A1, the table it will extracted with           Pandas'method read_html.\n",
    "\n",
    "- The Latitude and Longitude  coordinates of localidades will get with Python Geocoder Package.\n",
    "\n",
    "- The List of VenueCategories it will get of Foursquare Api.\n",
    " \n",
    " \n"
   ]
  },
  {
   "cell_type": "code",
   "execution_count": null,
   "metadata": {},
   "outputs": [],
   "source": []
  },
  {
   "cell_type": "code",
   "execution_count": null,
   "metadata": {},
   "outputs": [],
   "source": []
  },
  {
   "cell_type": "code",
   "execution_count": null,
   "metadata": {},
   "outputs": [],
   "source": []
  },
  {
   "cell_type": "code",
   "execution_count": null,
   "metadata": {},
   "outputs": [],
   "source": []
  },
  {
   "cell_type": "code",
   "execution_count": null,
   "metadata": {},
   "outputs": [],
   "source": []
  },
  {
   "cell_type": "code",
   "execution_count": null,
   "metadata": {},
   "outputs": [],
   "source": []
  },
  {
   "cell_type": "code",
   "execution_count": null,
   "metadata": {},
   "outputs": [],
   "source": []
  }
 ],
 "metadata": {
  "kernelspec": {
   "display_name": "Python 3",
   "language": "python",
   "name": "python3"
  },
  "language_info": {
   "codemirror_mode": {
    "name": "ipython",
    "version": 3
   },
   "file_extension": ".py",
   "mimetype": "text/x-python",
   "name": "python",
   "nbconvert_exporter": "python",
   "pygments_lexer": "ipython3",
   "version": "3.7.4"
  }
 },
 "nbformat": 4,
 "nbformat_minor": 2
}
